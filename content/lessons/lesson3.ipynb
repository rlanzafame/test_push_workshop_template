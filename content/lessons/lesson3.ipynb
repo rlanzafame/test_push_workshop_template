{
 "cells": [
  {
   "cell_type": "markdown",
   "id": "47e4765a",
   "metadata": {},
   "source": [
    "# Lesson 3: Interactive python plot"
   ]
  }
 ],
 "metadata": {
  "language_info": {
   "name": "python"
  }
 },
 "nbformat": 4,
 "nbformat_minor": 5
}
