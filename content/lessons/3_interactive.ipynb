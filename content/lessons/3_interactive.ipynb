{
 "cells": [
  {
   "cell_type": "markdown",
   "id": "47e4765a",
   "metadata": {},
   "source": [
    "---\n",
    "numbering:\n",
    "  title:\n",
    "    offset: 0\n",
    "  start: 4\n",
    "---\n",
    "# Interactive python plot"
   ]
  },
  {
   "cell_type": "markdown",
   "id": "1e714056",
   "metadata": {},
   "source": [
    "embedding https://mystmd.org/guide/embed\n",
    "\n",
    "execute: https://mystmd.org/guide/execute-notebooks"
   ]
  }
 ],
 "metadata": {
  "language_info": {
   "name": "python"
  }
 },
 "nbformat": 4,
 "nbformat_minor": 5
}
