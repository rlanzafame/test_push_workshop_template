{
 "cells": [
  {
   "cell_type": "markdown",
   "id": "47e4765a",
   "metadata": {},
   "source": [
    "---\n",
    "numbering:\n",
    "  title:\n",
    "    offset: 0\n",
    "  start: 4\n",
    "---\n",
    "# Interactive python plot"
   ]
  }
 ],
 "metadata": {
  "language_info": {
   "name": "python"
  }
 },
 "nbformat": 4,
 "nbformat_minor": 5
}
